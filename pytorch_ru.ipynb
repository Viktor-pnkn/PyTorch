{
 "cells": [
  {
   "cell_type": "markdown",
   "metadata": {},
   "source": [
    "# Примеры вычислений"
   ]
  },
  {
   "cell_type": "code",
   "execution_count": 1,
   "metadata": {},
   "outputs": [],
   "source": [
    "import torch\n",
    "import numpy as np"
   ]
  },
  {
   "cell_type": "code",
   "execution_count": 2,
   "metadata": {},
   "outputs": [
    {
     "name": "stdout",
     "output_type": "stream",
     "text": [
      "X :\n",
      " [[ 0  1  2  3]\n",
      " [ 4  5  6  7]\n",
      " [ 8  9 10 11]\n",
      " [12 13 14 15]]\n",
      "add 5 :\n",
      "[[ 5  6  7  8]\n",
      " [ 9 10 11 12]\n",
      " [13 14 15 16]\n",
      " [17 18 19 20]]\n",
      "X*X^T  :\n",
      " [[ 14  38  62  86]\n",
      " [ 38 126 214 302]\n",
      " [ 62 214 366 518]\n",
      " [ 86 302 518 734]]\n",
      "mean over cols :\n",
      "[ 1.5  5.5  9.5 13.5]\n",
      "cumsum of cols :\n",
      "[[ 0  1  2  3]\n",
      " [ 4  6  8 10]\n",
      " [12 15 18 21]\n",
      " [24 28 32 36]]\n"
     ]
    }
   ],
   "source": [
    "# numpy world\n",
    "\n",
    "x = np.arange(16).reshape(4, 4)\n",
    "\n",
    "print(\"X :\\n %s\" % x)\n",
    "print(\"add 5 :\\n%s\" % (x + 5))\n",
    "print(\"X*X^T  :\\n\", np.dot(x, x.T))\n",
    "print(\"mean over cols :\\n%s\" % (x.mean(axis=-1)))\n",
    "print(\"cumsum of cols :\\n%s\" % (np.cumsum(x, axis=0)))"
   ]
  },
  {
   "cell_type": "code",
   "execution_count": 3,
   "metadata": {},
   "outputs": [
    {
     "name": "stdout",
     "output_type": "stream",
     "text": [
      "Type of y: <class 'torch.Tensor'>\n",
      "Type of y <class 'torch.Tensor'>\n"
     ]
    }
   ],
   "source": [
    "# pytorch world\n",
    "\n",
    "x = np.arange(16).reshape(4, 4)\n",
    "\n",
    "y = torch.from_numpy(x)\n",
    "print('Type of y:', type(y))\n",
    "y = torch.from_numpy(x).type(torch.FloatTensor)\n",
    "print('Type of y', type(y))"
   ]
  },
  {
   "cell_type": "code",
   "execution_count": 4,
   "metadata": {},
   "outputs": [
    {
     "name": "stdout",
     "output_type": "stream",
     "text": [
      "Type of x: <class 'torch.Tensor'>\n",
      "X :\n",
      "tensor([[ 0.,  1.,  2.,  3.],\n",
      "        [ 4.,  5.,  6.,  7.],\n",
      "        [ 8.,  9., 10., 11.],\n",
      "        [12., 13., 14., 15.]])\n",
      "add 5 :\n",
      "tensor([[ 5.,  6.,  7.,  8.],\n",
      "        [ 9., 10., 11., 12.],\n",
      "        [13., 14., 15., 16.],\n",
      "        [17., 18., 19., 20.]])\n",
      "X*X^T  :\n",
      " tensor([[ 14.,  38.,  62.,  86.],\n",
      "        [ 38., 126., 214., 302.],\n",
      "        [ 62., 214., 366., 518.],\n",
      "        [ 86., 302., 518., 734.]])\n",
      "mean over cols :\n",
      " tensor([ 1.5000,  5.5000,  9.5000, 13.5000])\n",
      "cumsum of cols :\n",
      " tensor([[ 0.,  1.,  2.,  3.],\n",
      "        [ 4.,  6.,  8., 10.],\n",
      "        [12., 15., 18., 21.],\n",
      "        [24., 28., 32., 36.]])\n"
     ]
    }
   ],
   "source": [
    "x = torch.arange(0, 16).view(4, 4).float()\n",
    "print('Type of x:', type(x))\n",
    "\n",
    "print(\"X :\\n%s\" % x)\n",
    "print(\"add 5 :\\n%s\" % (x + 5))\n",
    "print(\"X*X^T  :\\n\", torch.matmul(x, x.transpose(1, 0)))\n",
    "print(\"mean over cols :\\n\", torch.mean(x, dim=-1))\n",
    "print(\"cumsum of cols :\\n\", torch.cumsum(x, dim=0))"
   ]
  },
  {
   "cell_type": "markdown",
   "metadata": {},
   "source": [
    "## NumPy и Pytorch\n",
    "\n",
    "Numpy и Pytorch не требуют предварительной компиляции графа вычислений.\n",
    "\n",
    "Для отладки можно использовать `pdb` или вывод через `print`.\n",
    "\n",
    "Методы NumPy и Pytorch в целом похожи, но есть небольшие отличия:\n",
    "\n",
    "```\n",
    "x.reshape([1,2,8]) -> x.view(1,2,8)\n",
    "x.sum(axis=-1) -> x.sum(dim=-1)\n",
    "x.astype('int64') -> x.type(torch.LongTensor)\n",
    "```\n",
    "\n",
    "Также легко конвертировать данные между форматами NumPy и Pytorch:\n",
    "\n",
    "```\n",
    "torch.from_numpy(npx) -- returns Tensor\n",
    "tt.numpy() -- returns Numpy Array\n",
    "```\n",
    "\n",
    "Troubleshooting:\n",
    "- читаем документацию\n",
    "- гуглим (stackoverflow / туториалы)"
   ]
  },
  {
   "cell_type": "code",
   "execution_count": 5,
   "metadata": {},
   "outputs": [
    {
     "name": "stdout",
     "output_type": "stream",
     "text": [
      "[1.        1.        0.9999999 1.        0.9999999 1.        1.\n",
      " 1.        1.        1.        1.        1.        1.        1.\n",
      " 1.        1.       ]\n"
     ]
    }
   ],
   "source": [
    "x = torch.linspace(0, 2 * np.pi, 16)\n",
    "\n",
    "# Mini-task: compute a vector of sin^2(x) + cos^2(x)\n",
    "out = torch.sin(x)**2 + torch.cos(x)**2\n",
    "\n",
    "print(out.numpy())"
   ]
  },
  {
   "cell_type": "markdown",
   "metadata": {},
   "source": [
    "## In-place операции"
   ]
  },
  {
   "cell_type": "markdown",
   "metadata": {},
   "source": [
    "Когда мы работаем с большими тензорами, для достижения максимальлной производительности память должна использоваться максимально эффективно. Некоторые операции создают новый объект, являющийся результатом вычислений. Операции, которые просто изменяют объект, не создавая новых, называют in-place операциями. В Pytorch такие операции обычно заканчиваются нижним подчёркиванием:\n",
    "```\n",
    "x.exp()   # not-in-place operation\n",
    "x.exp_()  # in-place operation\n",
    "```"
   ]
  },
  {
   "cell_type": "code",
   "execution_count": 6,
   "metadata": {},
   "outputs": [
    {
     "name": "stdout",
     "output_type": "stream",
     "text": [
      "Not-in-place:\n",
      "\tx.exp():\t\t [ 1.         2.7182817  7.389056  20.085537 ]\n",
      "\tx:\t\t\t [0. 1. 2. 3.]\n",
      "In-place:\n",
      "\tx.exp_():\t\t [ 1.         2.7182817  7.389056  20.085537 ]\n",
      "\tx after x.exp_():\t [ 1.         2.7182817  7.389056  20.085537 ]\n"
     ]
    }
   ],
   "source": [
    "x = torch.arange(4).float()\n",
    "print('Not-in-place:')\n",
    "print('\\tx.exp():\\t\\t', x.exp().numpy())\n",
    "print('\\tx:\\t\\t\\t', x.numpy())\n",
    "print('In-place:')\n",
    "print('\\tx.exp_():\\t\\t', x.exp_().numpy())\n",
    "print('\\tx after x.exp_():\\t', x.numpy())"
   ]
  },
  {
   "cell_type": "code",
   "execution_count": 7,
   "metadata": {},
   "outputs": [
    {
     "name": "stdout",
     "output_type": "stream",
     "text": [
      "[[0 2]\n",
      " [4 6]]\n",
      "[[0 2]\n",
      " [4 6]]\n"
     ]
    }
   ],
   "source": [
    "x = torch.arange(0, 4).view(2, 2)\n",
    "y = torch.arange(4, 8).view(2, 2)\n",
    "z = torch.arange(8, 12).view(2, 2)\n",
    "\n",
    "# Not-in-place:\n",
    "u = x + 2 * y - z    # 3 аллокации для промежуточных результатов\n",
    "print(u.numpy())\n",
    "\n",
    "# In-place\n",
    "u = y.clone()        # 1 аллокация\n",
    "u.mul_(2)\n",
    "u.add_(x)\n",
    "u.sub_(z)\n",
    "print(u.numpy())"
   ]
  },
  {
   "cell_type": "markdown",
   "metadata": {},
   "source": [
    "## Векторные вычисления в pytorch (аналогично numpy)"
   ]
  },
  {
   "cell_type": "code",
   "execution_count": 8,
   "metadata": {},
   "outputs": [
    {
     "name": "stdout",
     "output_type": "stream",
     "text": [
      "a: tensor([[1.],\n",
      "        [1.],\n",
      "        [1.],\n",
      "        [2.]])\n",
      "b: tensor([[1., 0., 1., 0.]])\n",
      "a + b: tensor([[2., 1., 2., 1.],\n",
      "        [2., 1., 2., 1.],\n",
      "        [2., 1., 2., 1.],\n",
      "        [3., 2., 3., 2.]])\n",
      "c: tensor([[ 0.8252, -0.6722, -0.9953,  1.7612],\n",
      "        [ 0.5370, -1.1465, -0.8466,  1.1356],\n",
      "        [ 1.4756,  0.1504, -0.1369,  0.5969],\n",
      "        [-2.6517, -0.6152,  0.7552, -1.2252]])\n",
      "b + c: tensor([[ 1.8252, -0.6722,  0.0047,  1.7612],\n",
      "        [ 1.5370, -1.1465,  0.1534,  1.1356],\n",
      "        [ 2.4756,  0.1504,  0.8631,  0.5969],\n",
      "        [-1.6517, -0.6152,  1.7552, -1.2252]])\n"
     ]
    }
   ],
   "source": [
    "a = torch.Tensor([1, 1, 1, 2]).view(4, 1)\n",
    "b = torch.Tensor([1, 0, 1, 0]).view(1, 4)\n",
    "c = torch.randn(16).view(4, 4)\n",
    "print('a:', a)\n",
    "print('b:', b)\n",
    "print('a + b:', a + b)\n",
    "print('c:', c)\n",
    "print('b + c:', b + c)"
   ]
  },
  {
   "cell_type": "markdown",
   "metadata": {},
   "source": [
    "For more information see http://pytorch.org/docs/master/notes/broadcasting.html"
   ]
  },
  {
   "cell_type": "markdown",
   "metadata": {},
   "source": [
    "## Задание #1: Тензоры"
   ]
  },
  {
   "cell_type": "markdown",
   "metadata": {},
   "source": [
    "Дано 100 объектов, каждый из которых есть 10-мерный вектор. Также даны 5 точек в данном 10-мерном пространстве. Объекты и точки представлены в матрицах X и Y соответственно.\n",
    "\n",
    "Для каждого объекта из X необходимо найти индекс ближайшей точки из Y, используя только тензорные операции (циклы, рекурсия и т.д. запрещены, они значительно замедляют решение)."
   ]
  },
  {
   "cell_type": "markdown",
   "metadata": {},
   "source": [
    "Хорошее решение требует $O(NM)$ дополнительной памяти вместо $O(NMD)$, где N, M, D — число объектов, точек и размерность пространства соответственно.\n",
    "\n",
    "Подсказка: вы можете вычислить матрицу попарных скалярных произведений между объектами и точками, используя одно матричное умножение."
   ]
  },
  {
   "cell_type": "code",
   "execution_count": 9,
   "metadata": {},
   "outputs": [],
   "source": [
    "X = torch.randn(100, 10)\n",
    "Y = torch.randn(5, 10)"
   ]
  },
  {
   "cell_type": "code",
   "execution_count": 10,
   "metadata": {},
   "outputs": [
    {
     "data": {
      "text/plain": [
       "tensor([1, 1, 4, 0, 2, 3, 2, 2, 2, 0, 1, 1, 0, 2, 2, 3, 4, 4, 0, 1, 1, 1, 3, 2,\n",
       "        0, 0, 2, 0, 2, 4, 0, 3, 2, 1, 1, 2, 3, 4, 0, 4, 1, 0, 1, 2, 2, 1, 3, 1,\n",
       "        2, 2, 2, 1, 0, 2, 0, 1, 4, 1, 0, 4, 4, 3, 4, 2, 2, 2, 2, 1, 1, 2, 4, 2,\n",
       "        2, 1, 0, 1, 1, 2, 0, 2, 4, 2, 0, 4, 3, 3, 3, 0, 1, 0, 0, 4, 3, 2, 1, 2,\n",
       "        0, 2, 4, 2])"
      ]
     },
     "execution_count": 10,
     "metadata": {},
     "output_type": "execute_result"
    }
   ],
   "source": [
    "((X[:, :, None] - Y.T[None, :, :])**2).sum(axis=1).argmin(axis=1) # O(NMD)"
   ]
  },
  {
   "cell_type": "code",
   "execution_count": 11,
   "metadata": {},
   "outputs": [
    {
     "data": {
      "text/plain": [
       "tensor([1, 1, 4, 0, 2, 3, 2, 2, 2, 0, 1, 1, 0, 2, 2, 3, 4, 4, 0, 1, 1, 1, 3, 2,\n",
       "        0, 0, 2, 0, 2, 4, 0, 3, 2, 1, 1, 2, 3, 4, 0, 4, 1, 0, 1, 2, 2, 1, 3, 1,\n",
       "        2, 2, 2, 1, 0, 2, 0, 1, 4, 1, 0, 4, 4, 3, 4, 2, 2, 2, 2, 1, 1, 2, 4, 2,\n",
       "        2, 1, 0, 1, 1, 2, 0, 2, 4, 2, 0, 4, 3, 3, 3, 0, 1, 0, 0, 4, 3, 2, 1, 2,\n",
       "        0, 2, 4, 2])"
      ]
     },
     "execution_count": 11,
     "metadata": {},
     "output_type": "execute_result"
    }
   ],
   "source": [
    "(-2 * (X @ Y.T) + (Y**2).sum(axis=1)).argmin(axis=1) # O(NM)"
   ]
  },
  {
   "cell_type": "markdown",
   "metadata": {},
   "source": [
    "## Вычисления на GPU\n",
    "`x.cuda()` копирует тензор на GPU и возвращает результат.\n",
    "Вы можете явно указать индекс GPU, на которую необходимо скопировать тензор: `x.cuda(gpu_id)`.\n",
    "Если тензор уже находится в памяти GPU, то метод вернёт тот же самый тензор, и копирование производиться не будет.\n",
    "`x.cpu()` работает аналогично.\n",
    "\n",
    "Вы можете выставить переменную окружения `CUDA_VISIBLE_DEVICES`.\n",
    "Если она задана, то `gpu_id` должен быть индексом в этом списке видимых GPU.\n",
    "\n",
    "Операции могут быть выполнены только над тензорами, лежащими на одном устройстве.\n",
    "Нарушение этого правила приводит к ошибке.\n",
    "Результат выполнения операции лежит на том же устройстве, что и операнды.\n",
    "\n",
    "Можно использовать `x.device` для определения, где лежит тензор `x` (на CPU или GPU).\n",
    "Для перемещения тензора на устройство также может быть полезен метод `.to`: `y.to(x.device)`.\n",
    "Также большинство методов, создающих тензоры, имеют необязательный параметр `device`, например: `torch.randn(5, device='cuda:0')`."
   ]
  },
  {
   "cell_type": "markdown",
   "metadata": {},
   "source": [
    "# Автоматическое дифференцирование\n",
    "\n",
    "Автоматическое вычисление градиента, используя обратное распространение:\n",
    "\n",
    "1. Создадим тензор/тензоры, требующие вычисление градиента: `a = torch.tensor(..., requires_grad=True)`\n",
    "\n",
    "2. Определим некоторую дифференцируемую _скалярную_ функцию: `loss = whatever(a)`\n",
    "\n",
    "3. Вызовем обратное распространение: `loss.backward()`\n",
    "\n",
    "4. Градиент вычислен и его можно получить так: `a.grad`\n",
    "\n",
    "Заметим, что `loss` должен быть функцией, зависящей как минимум от одного тензора, требующим вычисление градиента (`requires_grad = True`).\n",
    "\n",
    "Подробнее: https://pytorch.org/docs/stable/autograd.html\n",
    "\n",
    "Отличие** между Pytorch и Theano/TensorFlow:\n",
    "\n",
    "1. Функция `loss` может меняться динамически, например, для каждого минибатча.\n",
    "\n",
    "2. После вызова `.backward()`, градиенты созраняются в поле `.grad` каждой переменной. Если вызывать `.backward()` несколько раз или для нескольких функций, зависящих от одной переменной, то `.grad` этой переменной будет содержать сумму градиентов этих функций. Это можно использовать, если необходимо оптимизировать сумму нескольких loss-функций, или для виртуального увеличения размера батча. После каждого шага оптимизации градиенты необходимо обнулять (например, используя `optimizer.zero_grad()`).\n",
    "\n",
    "** - Pytorch поддерживает компилируемые вычислительные графы, что полезно, например, для увеличения производительности в продакшн-системах. Для этого используется <a href=\"https://en.wikipedia.org/wiki/Just-in-time_compilation\">JIT-компиляция</a>. Подробнее: https://pytorch.org/docs/stable/jit.html."
   ]
  },
  {
   "cell_type": "markdown",
   "metadata": {},
   "source": [
    "### Простой пример"
   ]
  },
  {
   "cell_type": "code",
   "execution_count": 12,
   "metadata": {},
   "outputs": [
    {
     "name": "stdout",
     "output_type": "stream",
     "text": [
      "x: tensor([-1.4923, -2.4517,  1.0345, -0.3183])\n",
      "y: tensor([ 0.3626, -2.9302,  0.3661, -2.1837])\n",
      "dp / dx: tensor([ 0.3626, -2.9302,  0.3661, -2.1837])\n",
      "dp / dy: tensor([-1.4923, -2.4517,  1.0345, -0.3183])\n"
     ]
    }
   ],
   "source": [
    "x = torch.randn(4, requires_grad=True)\n",
    "y = torch.randn(4, requires_grad=True)\n",
    "z = x * y + 10\n",
    "p = z.sum()\n",
    "p.backward()\n",
    "print('x:', x.data)\n",
    "print('y:', y.data)\n",
    "print('dp / dx:', x.grad)\n",
    "print('dp / dy:', y.grad)"
   ]
  },
  {
   "cell_type": "markdown",
   "metadata": {},
   "source": [
    "### Detaching (\"отцепление\") переменных\n",
    "`.detach()` возвращает копию переменной, через которую не проходит обратное распространение.\n",
    "Если вы усредняете или просто сохраняете значения функции потерь на минибатчах, лучше вызвать `.detach()` до сохранения этих значений.\n",
    "Иначе вычислительный граф для каждого минибатча также будет сохраняться в памяти, и очень быстро может возникнуть нехватка оперативной памяти.\n",
    "\n",
    "Также сущесвует in-place версия (`.detach_()`), которая не создаёт копию переменной."
   ]
  },
  {
   "cell_type": "code",
   "execution_count": 13,
   "metadata": {},
   "outputs": [
    {
     "name": "stdout",
     "output_type": "stream",
     "text": [
      "x: tensor([ 0.6659, -1.8548, -0.5792, -1.1804])\n",
      "y: tensor([-0.1299,  1.1616, -0.8347, -0.6363])\n",
      "dp / dx: tensor([-0.1299,  1.1616, -0.8347, -0.6363])\n",
      "dp / dy: None\n"
     ]
    }
   ],
   "source": [
    "x = torch.randn(4, requires_grad=True)\n",
    "y0 = torch.randn(4, requires_grad=True)\n",
    "y = y0.detach()\n",
    "z = x * y + 10\n",
    "p = z.sum()\n",
    "p.backward()\n",
    "print('x:', x.data)\n",
    "print('y:', y.data)\n",
    "print('dp / dx:', x.grad)\n",
    "print('dp / dy:', y.grad)"
   ]
  },
  {
   "cell_type": "markdown",
   "metadata": {},
   "source": [
    "### Обнуление градиента"
   ]
  },
  {
   "cell_type": "code",
   "execution_count": 14,
   "metadata": {},
   "outputs": [
    {
     "name": "stdout",
     "output_type": "stream",
     "text": [
      "x: tensor([1., 1., 1., 1.], requires_grad=True)\n",
      "dp / dx: tensor([2., 2., 2., 2.])\n",
      "x: tensor([1., 1., 1., 1.], requires_grad=True)\n",
      "dp / dx: tensor([1., 1., 1., 1.])\n"
     ]
    }
   ],
   "source": [
    "x = torch.tensor([1., 1, 1, 1], requires_grad=True)\n",
    "y = x ** 2\n",
    "p = y.sum()\n",
    "p.backward()\n",
    "print('x:', x)\n",
    "print('dp / dx:', x.grad)\n",
    "y = 1 / x\n",
    "p = y.sum()\n",
    "p.backward()\n",
    "print('x:', x)\n",
    "print('dp / dx:', x.grad)"
   ]
  },
  {
   "cell_type": "code",
   "execution_count": 15,
   "metadata": {},
   "outputs": [
    {
     "name": "stdout",
     "output_type": "stream",
     "text": [
      "x: tensor([1., 1., 1., 1.], requires_grad=True)\n",
      "dp / dx: tensor([2., 2., 2., 2.])\n",
      "x: tensor([1., 1., 1., 1.], requires_grad=True)\n",
      "dp / dx: tensor([-1., -1., -1., -1.])\n"
     ]
    }
   ],
   "source": [
    "x = torch.tensor([1, 1, 1, 1.], requires_grad=True)\n",
    "y = x ** 2\n",
    "p = y.sum()\n",
    "p.backward()\n",
    "print('x:', x)\n",
    "print('dp / dx:', x.grad)\n",
    "x.grad.detach_()       # extracting gradient Variable from the previous computational graph (optional)\n",
    "x.grad.zero_()         # zero gradinents\n",
    "y = 1 / x\n",
    "p = y.sum()\n",
    "p.backward()\n",
    "print('x:', x)\n",
    "print('dp / dx:', x.grad)"
   ]
  },
  {
   "cell_type": "markdown",
   "metadata": {},
   "source": [
    "### Листовые переменные\n",
    "\n",
    "В целях экономии памяти, градиенты сохраняются только для, так сказать, листовых переменных."
   ]
  },
  {
   "cell_type": "code",
   "execution_count": 16,
   "metadata": {},
   "outputs": [
    {
     "name": "stdout",
     "output_type": "stream",
     "text": [
      "x: tensor([ 1.4889,  2.7059, -0.7766, -1.1981], requires_grad=True)\n",
      "y: tensor([ 2.4889,  3.7059,  0.2234, -0.1981], grad_fn=<AddBackward0>)\n",
      "p: tensor(6.2200, grad_fn=<SumBackward0>)\n",
      "x.grad: tensor([1., 1., 1., 1.])\n",
      "y.grad: None\n",
      "p.grad: None\n"
     ]
    }
   ],
   "source": [
    "x = torch.randn(4, requires_grad=True)  # листовая переменная\n",
    "y = x + 1                               # нелистовая переменная\n",
    "p = y.sum()                             # нелистовая переменная\n",
    "p.backward()\n",
    "print('x:', x)\n",
    "print('y:', y)\n",
    "print('p:', p)\n",
    "print('x.grad:', x.grad)\n",
    "print('y.grad:', y.grad)\n",
    "print('p.grad:', p.grad)"
   ]
  },
  {
   "cell_type": "code",
   "execution_count": 17,
   "metadata": {},
   "outputs": [
    {
     "name": "stdout",
     "output_type": "stream",
     "text": [
      "x.grad: tensor([1., 1., 1., 1.])\n",
      "y.grad: tensor([1., 1., 1., 1.])\n",
      "z.grad: None\n",
      "p.grad: None\n",
      "x.is_leaf: True\n",
      "y.is_leaf: True\n",
      "z.is_leaf: False\n",
      "p.is_leaf: False\n"
     ]
    }
   ],
   "source": [
    "x = torch.randn(4, requires_grad=True)  # листовая переменная\n",
    "y = torch.randn(4, requires_grad=True)  # листовая переменная\n",
    "z = x + y    # нелистовая переменная\n",
    "p = z.sum()  # нелистовая переменная\n",
    "p.backward()\n",
    "print('x.grad:', x.grad)\n",
    "print('y.grad:', y.grad)\n",
    "print('z.grad:', z.grad)\n",
    "print('p.grad:', p.grad)\n",
    "print('x.is_leaf:', x.is_leaf)\n",
    "print('y.is_leaf:', y.is_leaf)\n",
    "print('z.is_leaf:', z.is_leaf)\n",
    "print('p.is_leaf:', p.is_leaf)"
   ]
  },
  {
   "cell_type": "markdown",
   "metadata": {},
   "source": [
    "### Вычисление градиент для нелистовых переменных\n",
    "\n",
    "Чтобы сохранить градиент для нелистовой переменной, можно использовать метод `.retain_grad()`."
   ]
  },
  {
   "cell_type": "code",
   "execution_count": 18,
   "metadata": {},
   "outputs": [
    {
     "name": "stdout",
     "output_type": "stream",
     "text": [
      "dp / dx: tensor([-1.3983, -0.6819,  1.0731, -3.3659])\n",
      "dp / dz: tensor([-1.7472,  0.2496,  2.0024,  0.9872])\n",
      "dp / dw: tensor([-0.8736,  0.1248,  1.0012,  0.4936])\n"
     ]
    }
   ],
   "source": [
    "x = torch.randn(4, requires_grad=True)   # листовая переменная\n",
    "z = torch.randn(4, requires_grad=True)   # листовая переменная\n",
    "w = z * 2      # нелистовая переменная\n",
    "y = x * w + 1  # вычисление до вызова retain_grad - это ок\n",
    "p = y.sum()\n",
    "\n",
    "w.retain_grad()\n",
    "\n",
    "p.backward()\n",
    "print('dp / dx:', x.grad)\n",
    "print('dp / dz:', z.grad)\n",
    "print('dp / dw:', w.grad)"
   ]
  },
  {
   "cell_type": "markdown",
   "metadata": {},
   "source": [
    "Заметим, что даже если существуют нелистовые переменные, требующие вычисление градиента, при вызове `.backward()` может произойти ошибка, если нет листовых переменных, требущих градиент."
   ]
  },
  {
   "cell_type": "code",
   "execution_count": 19,
   "metadata": {},
   "outputs": [],
   "source": [
    "# # такой код не работает\n",
    "# x = torch.randn(4, requires_grad=False)   # листовая переменная\n",
    "# z = torch.randn(4, requires_grad=False)   # листовая переменная\n",
    "# w = z * 2      # нелистовая переменная\n",
    "# y = x * w + 1\n",
    "# p = y.sum()\n",
    "\n",
    "# w.retain_grad()\n",
    "\n",
    "# p.backward()"
   ]
  },
  {
   "cell_type": "markdown",
   "metadata": {},
   "source": [
    "## Задание #2: Оптимизация"
   ]
  },
  {
   "cell_type": "code",
   "execution_count": 20,
   "metadata": {},
   "outputs": [],
   "source": [
    "import matplotlib.pyplot as plt\n",
    "%matplotlib inline"
   ]
  },
  {
   "cell_type": "code",
   "execution_count": 21,
   "metadata": {},
   "outputs": [],
   "source": [
    "X = torch.randn(50, 10)\n",
    "b = torch.randn(2, requires_grad=True)\n",
    "W = torch.randn(10, 2, requires_grad=True)"
   ]
  },
  {
   "cell_type": "markdown",
   "metadata": {},
   "source": [
    "Вам дана немного странная лосс-функция, которая задаёт преобразование 10-мерного пространства точек в 2-мерную окружность радиуса 1. Вам необходимо использовать градиентный спуск для подбора параметр данного преобразования.\n",
    "\n",
    "Линейное преобразование точки в 10-мерном пространстве $x$ в точку в 2-мерном пространстве $y$ задаётся матрицей весов $W$ и вектором $b$ следующим образом:\n",
    "$$y = Wx + b$$\n",
    "\n",
    "Рассмотрим Евклидову норму в 2-мерном пространстве:\n",
    "$$||y||_2 = \\sqrt{y_1^2 + y_2^2}$$\n",
    "\n",
    "Лосс-функция $f_0$ штрафует за расстояние от точки $y$ до окружности радиуса 1:\n",
    "$$f_0(x, W, b) = 0.5 \\cdot \\big| ||y||_2 - 1 \\big| + \\big( ||y||_2 - 1 \\big)^2$$\n",
    "\n",
    "К сожалению, оптимизация $f_0$ по $W$ и $b$ может быть получена аналитически и ведёт к тривиальному решению $W = 0$, $b = (1, 0)$.\n",
    "Чтобы обойти такие решения мы введём штраф за близость $y$ к $b$. Эта лосс-функция обращается в $0$, если расстояние от точки $y$ до точки $b$ больше, чем $1$:\n",
    "$$f_1(x, W, b) = \\max\\big(0, \\frac{1}{||y - b||_2} - 1\\big)$$\n",
    "\n",
    "Итоговая лосс-функция задаётся следующим образом:\n",
    "$$f(x, W, b) = f_0(x, W, b) + f_1(x, W, b)$$\n",
    "\n",
    "И нужно решить следующую задачу оптимизации:\n",
    "$$\\frac{1}{N}\\sum\\limits_{i = 1}^N f(x_i, W, b) \\to \\min\\limits_{W, b}$$"
   ]
  },
  {
   "cell_type": "code",
   "execution_count": 22,
   "metadata": {},
   "outputs": [],
   "source": [
    "def f(X, W, b):\n",
    "    n = X.shape[0]\n",
    "    y = X @ W + b\n",
    "    t = torch.norm(y, dim=1) - 1\n",
    "    f0 = 0.5 * t.abs() + t**2\n",
    "    f1 = torch.max(torch.zeros(n), 1 / torch.norm(y - b, dim=1) - 1)\n",
    "    f = f0 + f1\n",
    "    return f.sum() / n"
   ]
  },
  {
   "cell_type": "code",
   "execution_count": 23,
   "metadata": {},
   "outputs": [
    {
     "name": "stdout",
     "output_type": "stream",
     "text": [
      "tensor(23.4954, grad_fn=<DivBackward0>)\n"
     ]
    }
   ],
   "source": [
    "print(f(X, W, b))"
   ]
  },
  {
   "cell_type": "code",
   "execution_count": 24,
   "metadata": {},
   "outputs": [
    {
     "data": {
      "text/plain": [
       "<matplotlib.collections.PathCollection at 0x11f32c550>"
      ]
     },
     "execution_count": 24,
     "metadata": {},
     "output_type": "execute_result"
    },
    {
     "data": {
      "image/png": "[encoded data removed]",
      "text/plain": [
       "<Figure size 360x360 with 1 Axes>"
      ]
     },
     "metadata": {
      "needs_background": "light"
     },
     "output_type": "display_data"
    }
   ],
   "source": [
    "plt.figure(figsize=(5, 5))\n",
    "Y = X.mm(W.detach()).add(b.detach())\n",
    "plt.scatter(Y[:, 0], Y[:, 1])"
   ]
  },
  {
   "cell_type": "code",
   "execution_count": 25,
   "metadata": {},
   "outputs": [
    {
     "name": "stdout",
     "output_type": "stream",
     "text": [
      "tensor(23.4954)\n",
      "tensor(12.6940)\n",
      "tensor(7.3749)\n",
      "tensor(4.6916)\n",
      "tensor(3.2148)\n",
      "tensor(2.3453)\n",
      "tensor(1.7691)\n",
      "tensor(1.3856)\n",
      "tensor(1.1313)\n",
      "tensor(0.9553)\n",
      "tensor(0.8305)\n",
      "tensor(0.7370)\n",
      "tensor(0.6672)\n",
      "tensor(0.6207)\n",
      "tensor(0.5826)\n",
      "tensor(0.5525)\n",
      "tensor(0.5289)\n",
      "tensor(0.5113)\n",
      "tensor(0.4971)\n",
      "tensor(0.4850)\n",
      "tensor(0.4748)\n",
      "tensor(0.4664)\n",
      "tensor(0.4586)\n",
      "tensor(0.4522)\n",
      "tensor(0.4470)\n",
      "tensor(0.4422)\n",
      "tensor(0.4385)\n",
      "tensor(0.4349)\n",
      "tensor(0.4307)\n",
      "tensor(0.4275)\n"
     ]
    }
   ],
   "source": [
    "lr = 0.1\n",
    "\n",
    "for i in range(30):\n",
    "    l = f(X, W, b)\n",
    "    print(l.detach())\n",
    "    l.backward()\n",
    "    W.data -= lr * W.grad.data\n",
    "    b.data -= lr * b.grad.data\n",
    "    W.grad.zero_()\n",
    "    b.grad.zero_()"
   ]
  },
  {
   "cell_type": "code",
   "execution_count": 26,
   "metadata": {},
   "outputs": [
    {
     "data": {
      "text/plain": [
       "<matplotlib.collections.PathCollection at 0x11f43a7f0>"
      ]
     },
     "execution_count": 26,
     "metadata": {},
     "output_type": "execute_result"
    },
    {
     "data": {
      "image/png": "[encoded data removed]",
      "text/plain": [
       "<Figure size 360x360 with 1 Axes>"
      ]
     },
     "metadata": {
      "needs_background": "light"
     },
     "output_type": "display_data"
    }
   ],
   "source": [
    "plt.figure(figsize=(5, 5))\n",
    "Y = X.mm(W.detach()).add(b.detach())\n",
    "plt.scatter(Y[:, 0], Y[:, 1])"
   ]
  },
  {
   "cell_type": "markdown",
   "metadata": {},
   "source": [
    "# Время реализовать нейронную сеть\n",
    "\n",
    "Здесь мы реализуем многослойный перцептрон без использования модуля torch.nn."
   ]
  },
  {
   "cell_type": "markdown",
   "metadata": {},
   "source": [
    "## Dataset"
   ]
  },
  {
   "cell_type": "code",
   "execution_count": 27,
   "metadata": {},
   "outputs": [
    {
     "data": {
      "text/plain": [
       "((1797, 64), (1797,))"
      ]
     },
     "execution_count": 27,
     "metadata": {},
     "output_type": "execute_result"
    }
   ],
   "source": [
    "from sklearn.datasets import load_digits\n",
    "\n",
    "X, y = load_digits(return_X_y=True)\n",
    "X.shape, y.shape"
   ]
  },
  {
   "cell_type": "code",
   "execution_count": 28,
   "metadata": {},
   "outputs": [
    {
     "data": {
      "text/plain": [
       "((1347, 64), (450, 64))"
      ]
     },
     "execution_count": 28,
     "metadata": {},
     "output_type": "execute_result"
    }
   ],
   "source": [
    "from sklearn.model_selection import train_test_split\n",
    "\n",
    "X_train, X_test, y_train, y_test = train_test_split(X, y, random_state=0)\n",
    "X_train.shape, X_test.shape"
   ]
  },
  {
   "cell_type": "code",
   "execution_count": 29,
   "metadata": {},
   "outputs": [],
   "source": [
    "X_train = torch.from_numpy(X_train).type(torch.FloatTensor)\n",
    "y_train = torch.from_numpy(y_train).type(torch.LongTensor)\n",
    "X_test = torch.from_numpy(X_test).type(torch.FloatTensor)\n",
    "y_test = torch.from_numpy(y_test).type(torch.LongTensor)"
   ]
  },
  {
   "cell_type": "markdown",
   "metadata": {},
   "source": [
    "Подсказка: нейронный сети тяжело учатся, если входы имеют огромные абсолютные значения. Поэтому до обучения каждый признак необходимо нормализовать, причём независимо (исключение составляют свёрточные сети, для них нормализация производится независимо по каналам).\n",
    "\n",
    "Существует множество способов нормализации данных. Одним из самых популярных - это вычитание среднего и деление результата на стандартное отклонение (этот метод должен быть использован аккуратно, если стандартное отклонение близко к нулю; лучше обрабатывать эти случаи отдельно).\n",
    "Другими популярными способома является вычитание минимума и деление на разницу между максимумом и минимумом, применение сигмоидной функции и т.д."
   ]
  },
  {
   "cell_type": "markdown",
   "metadata": {},
   "source": [
    "Реализуйте нормализацию данных здесь:"
   ]
  },
  {
   "cell_type": "code",
   "execution_count": 30,
   "metadata": {},
   "outputs": [],
   "source": [
    "mu = X_train.mean(axis=0)\n",
    "std = X_train.std(axis=0)\n",
    "std[std == 0] = 1\n",
    "X_train = (X_train - mu) / std\n",
    "X_test = (X_test - mu) / std"
   ]
  },
  {
   "cell_type": "markdown",
   "metadata": {},
   "source": [
    "## Linear layer implementation"
   ]
  },
  {
   "cell_type": "code",
   "execution_count": 31,
   "metadata": {},
   "outputs": [],
   "source": [
    "class Module:\n",
    "    def __init__(self):\n",
    "        self.training = True\n",
    "        self.children = []\n",
    "\n",
    "    def forward(self, *input):\n",
    "        raise NotImplementedError\n",
    "\n",
    "    def __call__(self, *input):\n",
    "        return self.forward(*input)\n",
    "\n",
    "    def parameters(self):\n",
    "        \"\"\"Returns list of parameters of module and its children.\"\"\"\n",
    "        res = []\n",
    "        for submodule in self.children:\n",
    "            res += submodule.parameters()\n",
    "        for param in res:\n",
    "            if not isinstance(param, torch.Tensor):\n",
    "                raise Exception('Parameters must be Tensors.')\n",
    "            if not param.requires_grad:\n",
    "                raise Exception('Parameters must require gradients.')\n",
    "        return res\n",
    "    \n",
    "    def zero_grad(self):\n",
    "        \"\"\"Sets gradients of all model parameters to zero.\"\"\"\n",
    "        for p in self.parameters():\n",
    "            if p.grad is not None:\n",
    "                p.grad.detach_()   # detachs gradient Variable from the computational graph\n",
    "                p.grad.zero_()\n",
    "\n",
    "    def train(self):\n",
    "        \"\"\"Sets module into train mode (for DropOut, BatchNorm, etc).\"\"\"\n",
    "        self.training = True\n",
    "        for submodule in self.children:\n",
    "            submodule.train()\n",
    "\n",
    "    def eval(self):\n",
    "        \"\"\"Sets module into evaluation mode.\"\"\"\n",
    "        self.training = False\n",
    "        for submodule in self.children:\n",
    "            submodule.eval()"
   ]
  },
  {
   "cell_type": "code",
   "execution_count": 32,
   "metadata": {},
   "outputs": [],
   "source": [
    "class Dense(Module):\n",
    "    def __init__(self, input_units, output_units):\n",
    "        \"\"\"A dense layer is a layer which performs a learned affine transformation:\n",
    "        f(x) = W x + b\n",
    "        \"\"\"\n",
    "        super(Dense, self).__init__()\n",
    "        # initialize weights with small random numbers from normal distribution\n",
    "        scale = np.sqrt(2 / (input_units + output_units))\n",
    "        self.weights = torch.randn(input_units, output_units, requires_grad=True)\n",
    "        self.biases = torch.randn(output_units, requires_grad=True)\n",
    "        self.weights.data *= scale\n",
    "        self.biases.data *= scale\n",
    "\n",
    "    def parameters(self):\n",
    "        return [self.weights, self.biases]\n",
    "        \n",
    "    def forward(self, input):\n",
    "        \"\"\"Performs an affine transformation:\n",
    "        f(x) = W x + b\n",
    "        input shape:  [batch, input_units]  (Tensor)\n",
    "        output shape: [batch, output units] (Tensor)\n",
    "        \"\"\"\n",
    "        # your code here\n",
    "        output = input @ self.weights + self.biases\n",
    "        return output"
   ]
  },
  {
   "cell_type": "code",
   "execution_count": 33,
   "metadata": {},
   "outputs": [],
   "source": [
    "class ReLU(Module):\n",
    "    def __init__(self):\n",
    "        \"\"\"ReLU layer simply applies elementwise rectified linear unit to all inputs.\"\"\"\n",
    "        super(ReLU, self).__init__()\n",
    "\n",
    "    def parameters(self):\n",
    "        return []  # ReLU has no parameters\n",
    "    \n",
    "    def forward(self, input):\n",
    "        \"\"\"Applies elementwise ReLU to [batch, num_units] Tensor matrix.\"\"\"\n",
    "        # your code here\n",
    "        return input * (input > 0)"
   ]
  },
  {
   "cell_type": "code",
   "execution_count": 34,
   "metadata": {},
   "outputs": [],
   "source": [
    "class LogSoftmax(Module):\n",
    "    def __init__(self):\n",
    "        super(LogSoftmax, self).__init__()\n",
    "\n",
    "    def parameters(self):\n",
    "        return []\n",
    "        \n",
    "    def forward(self, input):\n",
    "        \"\"\"Applies softmax to each row and then applies component-wise log.\n",
    "        Input shape:  [batch, num_units] (Tensor)\n",
    "        Output shape: [batch, num_units] (Tensor)\n",
    "        \"\"\"\n",
    "        output = input.exp() / (input.exp().sum(-1)).unsqueeze(-1)\n",
    "        return output.log()"
   ]
  },
  {
   "cell_type": "code",
   "execution_count": 35,
   "metadata": {},
   "outputs": [],
   "source": [
    "import torch.nn as nn"
   ]
  },
  {
   "cell_type": "code",
   "execution_count": 36,
   "metadata": {},
   "outputs": [],
   "source": [
    "class MyNetwork(Module):\n",
    "    def __init__(self, input_size, hidden_layers_size, hidden_layers_number, output_size):\n",
    "        super(MyNetwork, self).__init__()\n",
    "\n",
    "        network = []\n",
    "        network.append(Dense(input_size, hidden_layers_size))\n",
    "        network.append(ReLU())\n",
    "        for i in range(hidden_layers_number - 1):\n",
    "            network.append(Dense(hidden_layers_size, hidden_layers_size))\n",
    "            network.append(ReLU())\n",
    "        network.append(Dense(hidden_layers_size, output_size))\n",
    "        network.append(LogSoftmax())\n",
    "\n",
    "        self.children = network\n",
    "\n",
    "    def forward(self, input):\n",
    "        \"\"\"Applies all layers of neural network to the input.\n",
    "        Input shape:  [batch, num_units] (Tensor)\n",
    "        Output shape: [batch, num_units] (Tensor)\n",
    "        \"\"\"\n",
    "        for child in self.children:\n",
    "            input = child(input)\n",
    "        \n",
    "        return input"
   ]
  },
  {
   "cell_type": "markdown",
   "metadata": {},
   "source": [
    "## Loss function"
   ]
  },
  {
   "cell_type": "code",
   "execution_count": 37,
   "metadata": {},
   "outputs": [],
   "source": [
    "def crossentropy(activations, target):\n",
    "    \"\"\"Returns negative log-likelihood of target under model\n",
    "    represented by activations (log probabilities of classes).\n",
    "    Tip: it is better to average crossentropy among objects\n",
    "    instead of sum.\n",
    "    Activations shape: [batch, num_classes] (Tensor)\n",
    "    Target shape:      [batch]              (Tensor)\n",
    "    Output shape: 1 (scalar, Tensor)\n",
    "    \"\"\"\n",
    "    return -activations[range(target.shape[0]), target].mean()"
   ]
  },
  {
   "cell_type": "markdown",
   "metadata": {},
   "source": [
    "## Stochastic Gradient Descent"
   ]
  },
  {
   "cell_type": "code",
   "execution_count": 38,
   "metadata": {},
   "outputs": [],
   "source": [
    "class SGDOptimizer:\n",
    "    def __init__(self, parameters, learning_rate):\n",
    "        self.parameters = parameters\n",
    "        self.learning_rate = learning_rate\n",
    "\n",
    "    def step(self):\n",
    "        \"\"\"Make one optimization step for parameters in-place.\n",
    "        Assumes that all parameters are Variable with computed gradient.\n",
    "        \"\"\"\n",
    "        for param in self.parameters:\n",
    "            param.data -= self.learning_rate * param.grad.data"
   ]
  },
  {
   "cell_type": "code",
   "execution_count": 39,
   "metadata": {},
   "outputs": [],
   "source": [
    "import torch.utils.data"
   ]
  },
  {
   "cell_type": "code",
   "execution_count": 40,
   "metadata": {},
   "outputs": [],
   "source": [
    "def run_epoch(dataset, network, prefix='Test loss:', optimizer=None, verbose=True):\n",
    "    # Change mode for all layers.\n",
    "    if optimizer:\n",
    "        network.train()\n",
    "    else:\n",
    "        network.eval()\n",
    "\n",
    "    batch_size = 100\n",
    "    batchgenerator = torch.utils.data.DataLoader(dataset, batch_size, True)\n",
    "\n",
    "    avg_loss = 0\n",
    "    for i, (batch_data, batch_target) in enumerate(batchgenerator):\n",
    "        if optimizer:\n",
    "            network.zero_grad()\n",
    "        batch_output = network(batch_data)\n",
    "        batch_loss = crossentropy(batch_output, batch_target)\n",
    "        batch_loss.backward()\n",
    "        batch_loss = float(batch_loss)\n",
    "        avg_loss += (batch_loss - avg_loss) / (i + 1)\n",
    "        if optimizer:\n",
    "            optimizer.step()\n",
    "    if verbose:\n",
    "        print(prefix, avg_loss, flush=True)\n",
    "    return avg_loss"
   ]
  },
  {
   "cell_type": "code",
   "execution_count": 41,
   "metadata": {},
   "outputs": [
    {
     "name": "stdout",
     "output_type": "stream",
     "text": [
      "Train loss: 1.0738722043378015\n",
      "Test loss: 0.39690343737602235\n",
      "Train loss: 0.27585516976458685\n",
      "Test loss: 0.23463469445705415\n",
      "Train loss: 0.17370419363890374\n",
      "Test loss: 0.18251388818025588\n",
      "Train loss: 0.12697122458900723\n",
      "Test loss: 0.18071738481521607\n",
      "Train loss: 0.09623066069824356\n",
      "Test loss: 0.1420673429965973\n",
      "Train loss: 0.07602805112089431\n",
      "Test loss: 0.13975680470466614\n",
      "Train loss: 0.06355450355580874\n",
      "Test loss: 0.12768156975507736\n",
      "Train loss: 0.0538682486595852\n",
      "Test loss: 0.13825826495885848\n",
      "Train loss: 0.04893994717193502\n",
      "Test loss: 0.11748176626861095\n",
      "Train loss: 0.03988778897161994\n",
      "Test loss: 0.11313324347138405\n",
      "Train loss: 0.035739601456693235\n",
      "Test loss: 0.11637146770954132\n",
      "Train loss: 0.031891934241035154\n",
      "Test loss: 0.13019417151808738\n",
      "Train loss: 0.027689510357699225\n",
      "Test loss: 0.12836344987154008\n",
      "Train loss: 0.025144671489085474\n",
      "Test loss: 0.11398202925920486\n",
      "Train loss: 0.02353823444406901\n",
      "Test loss: 0.11843206137418746\n",
      "Train loss: 0.020749252089964493\n",
      "Test loss: 0.10640302076935768\n",
      "Train loss: 0.018873344840747968\n",
      "Test loss: 0.1150386467576027\n",
      "Train loss: 0.017265460520450557\n",
      "Test loss: 0.11008773669600487\n",
      "Train loss: 0.016112216282635927\n",
      "Test loss: 0.10631147734820842\n",
      "Train loss: 0.015153263030307635\n",
      "Test loss: 0.10782913118600845\n"
     ]
    }
   ],
   "source": [
    "train_dataset = torch.utils.data.TensorDataset(X_train, y_train)\n",
    "test_dataset = torch.utils.data.TensorDataset(X_test, y_test)\n",
    "\n",
    "network = MyNetwork(X_train.shape[1], 32, 0, 10)\n",
    "sgd = SGDOptimizer(network.parameters(), 0.5)\n",
    "\n",
    "num_epochs = 20\n",
    "sgd_train_losses = []\n",
    "sgd_test_losses = []\n",
    "for i in range(num_epochs):\n",
    "    loss = run_epoch(train_dataset, network, 'Train loss:', sgd)\n",
    "    sgd_train_losses.append(loss)\n",
    "    loss = run_epoch(test_dataset, network, 'Test loss:',  None)\n",
    "    sgd_test_losses.append(loss)"
   ]
  },
  {
   "cell_type": "markdown",
   "metadata": {},
   "source": [
    "## Нужно больше оптимизаторов!"
   ]
  },
  {
   "cell_type": "code",
   "execution_count": 42,
   "metadata": {},
   "outputs": [],
   "source": [
    "class SGDMomentumOptimizer:\n",
    "    def __init__(self, parameters, learning_rate=0.01, momentum=0.9):\n",
    "        self.parameters = parameters\n",
    "        self.prev_grads = [torch.zeros_like(param.data) for param in parameters]\n",
    "        self.learning_rate = learning_rate\n",
    "        self.momentum = momentum\n",
    "    \n",
    "    def step(self):\n",
    "        \"\"\"Make one optimization step for parameters in-place.\n",
    "        Assumes that all parameters are Variable with computed gradient.\n",
    "        \"\"\"\n",
    "        for i, param in enumerate(self.parameters):\n",
    "            grad = self.momentum * self.prev_grads[i] + (1 - self.momentum) * param.grad.data\n",
    "            self.prev_grads[i] = torch.clone(grad).detach()\n",
    "            param.data -= self.learning_rate * grad"
   ]
  },
  {
   "cell_type": "code",
   "execution_count": 43,
   "metadata": {},
   "outputs": [],
   "source": [
    "class RMSPropOptimizer:\n",
    "    def __init__(self, parameters, learning_rate=0.01, beta=0.9, eps=1e-8):\n",
    "        self.parameters = parameters\n",
    "        self.learning_rate = learning_rate\n",
    "        self.beta = beta\n",
    "        self.eps = eps\n",
    "        self.prev_grads = [torch.zeros_like(param.data) for param in parameters]\n",
    "        \n",
    "\n",
    "    def step(self):\n",
    "        \"\"\"Make one optimization step for parameters in-place.\n",
    "        Assumes that all parameters are Variable with computed gradient.\n",
    "        \"\"\"\n",
    "        for i, param in enumerate(self.parameters):\n",
    "            grad = self.beta * self.prev_grads[i] + (1 - self.beta) * param.grad.data**2\n",
    "            self.prev_grads[i] = torch.clone(grad).detach()\n",
    "            param.data -= self.learning_rate * param.grad.data / (torch.sqrt(grad) + self.eps)"
   ]
  },
  {
   "cell_type": "code",
   "execution_count": 44,
   "metadata": {},
   "outputs": [],
   "source": [
    "class AdamOptimizer:\n",
    "    def __init__(self, parameters, learning_rate=0.01, beta1=0.9, beta2=0.999, eps=1e-8):\n",
    "        self.parameters = parameters\n",
    "        self.learning_rate = learning_rate\n",
    "        self.beta1 = beta1\n",
    "        self.beta2 = beta2\n",
    "        self.eps = eps\n",
    "        self.t = 0\n",
    "        self.prev_m1 = [torch.zeros_like(param.data) for param in parameters]\n",
    "        self.prev_m2 = [torch.zeros_like(param.data) for param in parameters]\n",
    "        \n",
    "\n",
    "    def step(self):\n",
    "        \"\"\"Make one optimization step for parameters in-place.\n",
    "        Assumes that all parameters are Variable with computed gradient.\n",
    "        \"\"\"\n",
    "        for i, param in enumerate(self.parameters):\n",
    "            self.t += 1\n",
    "            m1 = self.beta1 * self.prev_m1[i] + (1 - self.beta1) * param.grad.data\n",
    "            m2 = self.beta2 * self.prev_m2[i] + (1 - self.beta2) * param.grad.data**2\n",
    "            self.prev_m1[i] = torch.clone(m1).detach()\n",
    "            self.prev_m2[i] = torch.clone(m2).detach()\n",
    "            m1_est = m1 / (1 - self.beta1**self.t)\n",
    "            m2_est = m2 / (1 - self.beta2**self.t)\n",
    "            param.data -= self.learning_rate * m1_est / (torch.sqrt(m2_est) + self.eps)"
   ]
  },
  {
   "cell_type": "code",
   "execution_count": 45,
   "metadata": {},
   "outputs": [],
   "source": [
    "train_dataset = torch.utils.data.TensorDataset(X_train, y_train)\n",
    "test_dataset = torch.utils.data.TensorDataset(X_test, y_test)"
   ]
  },
  {
   "cell_type": "code",
   "execution_count": 46,
   "metadata": {},
   "outputs": [
    {
     "name": "stdout",
     "output_type": "stream",
     "text": [
      "Train loss: 1.6958270626408716\n",
      "Test loss: 0.7480188727378845\n",
      "Train loss: 0.4208430573344231\n",
      "Test loss: 0.3091982066631317\n",
      "Train loss: 0.1971336587199143\n",
      "Test loss: 0.21233940720558167\n",
      "Train loss: 0.12416990952832357\n",
      "Test loss: 0.18100107610225677\n",
      "Train loss: 0.09022074272590022\n",
      "Test loss: 0.16313549131155014\n",
      "Train loss: 0.07277351032410348\n",
      "Test loss: 0.15219417810440064\n",
      "Train loss: 0.060348318889737115\n",
      "Test loss: 0.14517679214477539\n",
      "Train loss: 0.049973036628216505\n",
      "Test loss: 0.14082070887088777\n",
      "Train loss: 0.04323660529085568\n",
      "Test loss: 0.14102438539266587\n",
      "Train loss: 0.03951005371553558\n",
      "Test loss: 0.14091340005397796\n",
      "Train loss: 0.03384363418444991\n",
      "Test loss: 0.13342302814126014\n",
      "Train loss: 0.030114314119730676\n",
      "Test loss: 0.13509950041770935\n",
      "Train loss: 0.02700126071327499\n",
      "Test loss: 0.13655895367264748\n",
      "Train loss: 0.02427194526951228\n",
      "Test loss: 0.1318156123161316\n",
      "Train loss: 0.021663252862968614\n",
      "Test loss: 0.13209424763917924\n",
      "Train loss: 0.020337276692901342\n",
      "Test loss: 0.12267234902828932\n",
      "Train loss: 0.019141408082629954\n",
      "Test loss: 0.1349826917052269\n",
      "Train loss: 0.017405308916100433\n",
      "Test loss: 0.14312571585178374\n",
      "Train loss: 0.01577558082395366\n",
      "Test loss: 0.14957162439823152\n",
      "Train loss: 0.014658772320087467\n",
      "Test loss: 0.1319822996854782\n"
     ]
    }
   ],
   "source": [
    "network = MyNetwork(X_train.shape[1], 32, 1, 10)\n",
    "optim = SGDMomentumOptimizer(network.parameters(), 0.5)\n",
    "\n",
    "num_epochs = 20\n",
    "sgd_momentum_train_losses = []\n",
    "sgd_momentum_test_losses = []\n",
    "for i in range(num_epochs):\n",
    "    loss = run_epoch(train_dataset, network, 'Train loss:', optim)\n",
    "    sgd_momentum_train_losses.append(loss)\n",
    "    loss = run_epoch(test_dataset, network, 'Test loss:',  None)\n",
    "    sgd_momentum_test_losses.append(loss)"
   ]
  },
  {
   "cell_type": "code",
   "execution_count": 47,
   "metadata": {},
   "outputs": [
    {
     "name": "stdout",
     "output_type": "stream",
     "text": [
      "Train loss: 0.9790757681642258\n",
      "Test loss: 0.3951204180717468\n",
      "Train loss: 0.23220155867082734\n",
      "Test loss: 0.2063836932182312\n",
      "Train loss: 0.1290872735636575\n",
      "Test loss: 0.16445472538471223\n",
      "Train loss: 0.08060296358806748\n",
      "Test loss: 0.17376239523291587\n",
      "Train loss: 0.050573181627052176\n",
      "Test loss: 0.12922589480876923\n",
      "Train loss: 0.03436283195125205\n",
      "Test loss: 0.13724106475710868\n",
      "Train loss: 0.01991265776034977\n",
      "Test loss: 0.13394027352333068\n",
      "Train loss: 0.014086459829871143\n",
      "Test loss: 0.12088451087474823\n",
      "Train loss: 0.008846274992850211\n",
      "Test loss: 0.10804536379873753\n",
      "Train loss: 0.00559002931030201\n",
      "Test loss: 0.12573828510940074\n",
      "Train loss: 0.003504674682127578\n",
      "Test loss: 0.13146790042519568\n",
      "Train loss: 0.0025946373435934743\n",
      "Test loss: 0.13872359171509743\n",
      "Train loss: 0.0016802318693537796\n",
      "Test loss: 0.11778247207403184\n",
      "Train loss: 0.0009036163371222626\n",
      "Test loss: 0.11718433005735278\n",
      "Train loss: 0.0006120544733546142\n",
      "Test loss: 0.14635447338223456\n",
      "Train loss: 0.0007426519109035975\n",
      "Test loss: 0.18286193981766702\n",
      "Train loss: 0.00032041407705816837\n",
      "Test loss: 0.15994852259755135\n",
      "Train loss: 0.0001590274543039933\n",
      "Test loss: 0.13619787946809084\n",
      "Train loss: 0.00010690530299533357\n",
      "Test loss: 0.1780679114162922\n",
      "Train loss: 7.625162301597552e-05\n",
      "Test loss: 0.15385001264512538\n"
     ]
    }
   ],
   "source": [
    "network = MyNetwork(X_train.shape[1], 32, 1, 10)\n",
    "optim = RMSPropOptimizer(network.parameters())\n",
    "\n",
    "num_epochs = 20\n",
    "rmsprop_train_losses = []\n",
    "rmsprop_test_losses = []\n",
    "for i in range(num_epochs):\n",
    "    loss = run_epoch(train_dataset, network, 'Train loss:', optim)\n",
    "    rmsprop_train_losses.append(loss)\n",
    "    loss = run_epoch(test_dataset, network, 'Test loss:',  None)\n",
    "    rmsprop_test_losses.append(loss)"
   ]
  },
  {
   "cell_type": "code",
   "execution_count": 52,
   "metadata": {},
   "outputs": [
    {
     "name": "stdout",
     "output_type": "stream",
     "text": [
      "Train loss: 1.4429009939943038\n",
      "Test loss: 0.5804416418075562\n",
      "Train loss: 0.30385231785476213\n",
      "Test loss: 0.23656160831451417\n",
      "Train loss: 0.12539377915007727\n",
      "Test loss: 0.2193530261516571\n",
      "Train loss: 0.06185844593814441\n",
      "Test loss: 0.15878635719418527\n",
      "Train loss: 0.040604921856096814\n",
      "Test loss: 0.15491996482014656\n",
      "Train loss: 0.02442644563104425\n",
      "Test loss: 0.1518046647310257\n",
      "Train loss: 0.015586350711860826\n",
      "Test loss: 0.16484163627028464\n",
      "Train loss: 0.011006047816148827\n",
      "Test loss: 0.15084458217024804\n",
      "Train loss: 0.008942971238866448\n",
      "Test loss: 0.1462010622024536\n",
      "Train loss: 0.007348121376708152\n",
      "Test loss: 0.15473982319235802\n",
      "Train loss: 0.005675997235812248\n",
      "Test loss: 0.14033473581075667\n",
      "Train loss: 0.0048460578545928\n",
      "Test loss: 0.14714743494987487\n",
      "Train loss: 0.004085443672790591\n",
      "Test loss: 0.14160461872816085\n",
      "Train loss: 0.0037329845196966615\n",
      "Test loss: 0.13714438378810884\n",
      "Train loss: 0.003270971913090242\n",
      "Test loss: 0.1403486594557762\n",
      "Train loss: 0.0029153793667709193\n",
      "Test loss: 0.13878582715988158\n",
      "Train loss: 0.0026150427293032408\n",
      "Test loss: 0.13891809284687043\n",
      "Train loss: 0.00234099815133959\n",
      "Test loss: 0.13716023936867713\n",
      "Train loss: 0.002161615719420037\n",
      "Test loss: 0.13847110308706762\n",
      "Train loss: 0.0020491786251243737\n",
      "Test loss: 0.1392690259963274\n"
     ]
    }
   ],
   "source": [
    "network = MyNetwork(X_train.shape[1], 32, 1, 10)\n",
    "optim = AdamOptimizer(network.parameters())\n",
    "\n",
    "num_epochs = 20\n",
    "adam_train_losses = []\n",
    "adam_test_losses = []\n",
    "for i in range(num_epochs):\n",
    "    loss = run_epoch(train_dataset, network, 'Train loss:', optim)\n",
    "    adam_train_losses.append(loss)\n",
    "    loss = run_epoch(test_dataset, network, 'Test loss:',  None)\n",
    "    adam_test_losses.append(loss)"
   ]
  },
  {
   "cell_type": "code",
   "execution_count": 49,
   "metadata": {},
   "outputs": [
    {
     "data": {
      "image/png": "[encoded data removed]",
      "text/plain": [
       "<Figure size 432x288 with 1 Axes>"
      ]
     },
     "metadata": {
      "needs_background": "light"
     },
     "output_type": "display_data"
    }
   ],
   "source": [
    "plt.plot(sgd_train_losses, label='SGD train')\n",
    "plt.plot(sgd_test_losses, label='SGD test')\n",
    "plt.plot(sgd_momentum_train_losses, label='SGD momentum train')\n",
    "plt.plot(sgd_momentum_test_losses, label='SGD momentum test')\n",
    "plt.plot(rmsprop_train_losses, label='Rmsprop train')\n",
    "plt.plot(rmsprop_test_losses, label='Rmsprop test')\n",
    "plt.plot(adam_train_losses, label='Adam train')\n",
    "plt.plot(adam_test_losses, label='Adam test')\n",
    "plt.xlabel('Epoch')\n",
    "plt.ylabel('Loss')\n",
    "plt.legend()\n",
    "pass"
   ]
  },
  {
   "cell_type": "markdown",
   "metadata": {},
   "source": [
    "## DropOut"
   ]
  },
  {
   "cell_type": "code",
   "execution_count": 50,
   "metadata": {},
   "outputs": [],
   "source": [
    "class DenseWithDropOut(Module):\n",
    "    def __init__(self, input_units, output_units, dropout_rate, nonlinearity):\n",
    "        \"\"\"A dense layer is a layer which performs a learned\n",
    "        affine transformation and applies dropout:\n",
    "        m ~ Bernoulli(1 - p, size=output_units)\n",
    "        f(x) = g(W x + b) o m\n",
    "        \"\"\"\n",
    "        super(DenseWithDropOut, self).__init__()\n",
    "        self.dropout_rate = dropout_rate\n",
    "        self.nonlinearity = nonlinearity\n",
    "        \n",
    "        scale = np.sqrt(2 / (input_units + output_units))\n",
    "        self.weights = torch.randn(input_units, output_units, requires_grad=True)\n",
    "        self.biases = torch.randn(output_units, requires_grad=True)\n",
    "        self.weights.data *= scale\n",
    "        self.biases.data *= scale\n",
    "\n",
    "    def parameters(self):\n",
    "        return [self.weights, self.biases]\n",
    "        \n",
    "    def forward(self, input, training=True):\n",
    "        \"\"\"Performs an affine transformation with dropout.\n",
    "        In training mode:\n",
    "        m ~ Bernoulli(1 - p, size=output_units)\n",
    "        f(x) = g(W x + b) o m\n",
    "        In evaluation mode:\n",
    "        f(x) = g(W x + b) (1 - p)\n",
    "        input shape:  [batch, input_units]  (Variable)\n",
    "        output shape: [batch, output units] (Variable)\n",
    "        \"\"\"\n",
    "        output = self.nonlinearity(input @ self.weights + self.biases)\n",
    "        \n",
    "        if training:\n",
    "            m = np.random.binomial(n=1, p=1-self.dropout_rate, size=self.weights.shape[1])\n",
    "            output = output * torch.tensor(m)\n",
    "        else:\n",
    "            output = output * (1 - self.dropout_rate)\n",
    "        return output"
   ]
  },
  {
   "cell_type": "markdown",
   "metadata": {},
   "source": [
    "Проверим, правда ли полносвязная сеть с dropout работает быстрее, чем обычная полносвязная сеть."
   ]
  },
  {
   "cell_type": "code",
   "execution_count": 51,
   "metadata": {},
   "outputs": [
    {
     "name": "stdout",
     "output_type": "stream",
     "text": [
      "6.39 s ± 946 ms per loop (mean ± std. dev. of 7 runs, 1 loop each)\n",
      "5.99 s ± 518 ms per loop (mean ± std. dev. of 7 runs, 1 loop each)\n"
     ]
    }
   ],
   "source": [
    "width = 2000\n",
    "network1 = [\n",
    "    DenseWithDropOut(width, width, 0.9, lambda x: ReLU().forward(x)),\n",
    "    DenseWithDropOut(width, width, 0.9, lambda x: ReLU().forward(x)),\n",
    "    DenseWithDropOut(width, width, 0.9, lambda x: ReLU().forward(x)),\n",
    "    DenseWithDropOut(width, 1, 0, lambda x: x)\n",
    "]\n",
    "network2 = [\n",
    "    Dense(width, width),\n",
    "    ReLU(),\n",
    "    Dense(width, width),\n",
    "    ReLU(),\n",
    "    Dense(width, width),\n",
    "    ReLU(),\n",
    "    Dense(width, 1)\n",
    "]\n",
    "\n",
    "X = torch.randn(10000, width)\n",
    "\n",
    "# check whether DenseWithDropOut works faster than Dense\n",
    "def test_network(network):\n",
    "    x = torch.clone(X)\n",
    "    for layer in network:\n",
    "        x = layer.forward(x)\n",
    "    x.mean().backward()\n",
    "    for layer in network:\n",
    "        x = layer.zero_grad()\n",
    "\n",
    "test_network(network1)\n",
    "%timeit test_network(network1)\n",
    "%timeit test_network(network2)"
   ]
  },
  {
   "cell_type": "markdown",
   "metadata": {},
   "source": [
    "Для менее глубоких сетей, низких коэффициентов dropout и меньших размеров минибатча увеличение производительности не такое значительное или его может не быть вообще."
   ]
  },
  {
   "cell_type": "code",
   "execution_count": null,
   "metadata": {},
   "outputs": [],
   "source": []
  }
 ],
 "metadata": {
  "kernelspec": {
   "display_name": "Python 3",
   "language": "python",
   "name": "python3"
  },
  "language_info": {
   "codemirror_mode": {
    "name": "ipython",
    "version": 3
   },
   "file_extension": ".py",
   "mimetype": "text/x-python",
   "name": "python",
   "nbconvert_exporter": "python",
   "pygments_lexer": "ipython3",
   "version": "3.7.4"
  }
 },
 "nbformat": 4,
 "nbformat_minor": 4
}
